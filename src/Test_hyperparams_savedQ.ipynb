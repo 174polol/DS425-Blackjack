{
 "cells": [
  {
   "attachments": {},
   "cell_type": "markdown",
   "metadata": {},
   "source": [
    "In this file we will use the data that is stored in the data file.\n",
    "This way the Test_hyperparams.ipynb file can be used to test the hyperparameters without having to train the model again.\n",
    "And the figures can be easily reproduced."
   ]
  },
  {
   "cell_type": "code",
   "execution_count": 1,
   "metadata": {},
   "outputs": [],
   "source": [
    "import numpy as np\n",
    "import matplotlib.pyplot as plt\n",
    "import gym\n",
    "import pickle #allows to serialize and deserialize Python objects.\n",
    "from mpl_toolkits.mplot3d import Axes3D\n",
    "\n",
    "\n",
    "directory_path_epis = r\"C:\\Users\\Callens.R\\Documents\\Kms\\1MA sem 2\\2. DS425 Intelligent decision support methods\\Project weemaes_callens\\DS425-Blackjack\\data\\episodes\"\n",
    "directory_path_hyp = r\"C:\\Users\\Callens.R\\Documents\\Kms\\1MA sem 2\\2. DS425 Intelligent decision support methods\\Project weemaes_callens\\DS425-Blackjack\\data\\hyperparams\"\n",
    "directory_path_hypopt = r\"C:\\Users\\Callens.R\\Documents\\Kms\\1MA sem 2\\2. DS425 Intelligent decision support methods\\Project weemaes_callens\\DS425-Blackjack\\data\\hyperparamsopt\""
   ]
  },
  {
   "cell_type": "code",
   "execution_count": 2,
   "metadata": {},
   "outputs": [
    {
     "ename": "NameError",
     "evalue": "name 'num_episodes' is not defined",
     "output_type": "error",
     "traceback": [
      "\u001b[1;31m---------------------------------------------------------------------------\u001b[0m",
      "\u001b[1;31mNameError\u001b[0m                                 Traceback (most recent call last)",
      "Cell \u001b[1;32mIn[2], line 14\u001b[0m\n\u001b[0;32m     11\u001b[0m \u001b[39mfor\u001b[39;00m j, gamma \u001b[39min\u001b[39;00m \u001b[39menumerate\u001b[39m(gamma_range):\n\u001b[0;32m     12\u001b[0m     \u001b[39mfor\u001b[39;00m k, epsilon \u001b[39min\u001b[39;00m \u001b[39menumerate\u001b[39m(epsilon_range):\n\u001b[0;32m     13\u001b[0m         \u001b[39m# Load Q-table from file\u001b[39;00m\n\u001b[1;32m---> 14\u001b[0m         filename \u001b[39m=\u001b[39m \u001b[39mf\u001b[39m\u001b[39m\"\u001b[39m\u001b[39m{\u001b[39;00mdirectory_path_hyp\u001b[39m}\u001b[39;00m\u001b[39m/episodes\u001b[39m\u001b[39m{\u001b[39;00mnum_episodes\u001b[39m}\u001b[39;00m\u001b[39m_q_table_alpha\u001b[39m\u001b[39m{\u001b[39;00malpha\u001b[39m}\u001b[39;00m\u001b[39m_gamma\u001b[39m\u001b[39m{\u001b[39;00mgamma\u001b[39m}\u001b[39;00m\u001b[39m_epsilon\u001b[39m\u001b[39m{\u001b[39;00mepsilon\u001b[39m}\u001b[39;00m\u001b[39m.pkl\u001b[39m\u001b[39m\"\u001b[39m\n\u001b[0;32m     15\u001b[0m         \u001b[39mwith\u001b[39;00m \u001b[39mopen\u001b[39m(filename, \u001b[39m'\u001b[39m\u001b[39mrb\u001b[39m\u001b[39m'\u001b[39m) \u001b[39mas\u001b[39;00m f:\n\u001b[0;32m     16\u001b[0m             Q_table \u001b[39m=\u001b[39m pickle\u001b[39m.\u001b[39mload(f)\n",
      "\u001b[1;31mNameError\u001b[0m: name 'num_episodes' is not defined"
     ]
    }
   ],
   "source": [
    "\n",
    "# Define ranges for hyperparameters\n",
    "alpha_range = np.arange(0.01, 1.01, 0.1)\n",
    "gamma_range = np.arange(0.1, 1.1, 0.1)\n",
    "epsilon_range = np.arange(0.01, 1.01, 0.1)\n",
    "\n",
    "# Initialize arrays to store win rate for each combination of hyperparameters\n",
    "win_rates = np.zeros((alpha_range.size, gamma_range.size, epsilon_range.size))\n",
    "\n",
    "# Load Q-tables from files and evaluate win rate for each combination of hyperparameters\n",
    "for i, alpha in enumerate(alpha_range):\n",
    "    for j, gamma in enumerate(gamma_range):\n",
    "        for k, epsilon in enumerate(epsilon_range):\n",
    "            # Load Q-table from file\n",
    "            filename = f\"{directory_path_hyp}/episodes{num_episodes}_q_table_alpha{alpha}_gamma{gamma}_epsilon{epsilon}.pkl\"\n",
    "            with open(filename, 'rb') as f:\n",
    "                Q_table = pickle.load(f)\n",
    "\n",
    "            # Evaluate win rate for current hyperparameters\n",
    "            num_games = 100000\n",
    "            num_wins = 0\n",
    "            num_draws = 0\n",
    "            num_losses = 0\n",
    "            for _ in range(num_games):\n",
    "                state = env.reset()[0]\n",
    "                done = False\n",
    "                while not done:\n",
    "                    action = np.argmax(Q_table[state_space.index(state)])\n",
    "                    next_state, reward, done, terminal, dic = env.step(action)\n",
    "                    state = next_state\n",
    "                    if done and reward == 1:\n",
    "                        num_wins += 1\n",
    "                    elif done and reward == -1:\n",
    "                        num_losses += 1\n",
    "                    elif done and reward == 0:\n",
    "                        num_draws += 1\n",
    "            # Record win rate for current hyperparameters\n",
    "            win_rate = num_wins / (num_games - num_draws)\n",
    "            win_rates[i, j, k] = win_rate\n",
    "\n",
    "# Plot win rates\n",
    "fig, axs = plt.subplots(alpha_range.size, gamma_range.size, figsize=(12, 12))\n",
    "for i, alpha in enumerate(alpha_range):\n",
    "    for j, gamma in enumerate(gamma_range):\n",
    "        for k, epsilon in enumerate(epsilon_range):\n",
    "            axs[i, j].plot(epsilon_range, win_rates[i, j, :], label=f\"Epsilon={epsilon:.2f}\")\n",
    "        axs[i, j].set_xlabel(\"Epsilon\")\n",
    "        axs[i, j].set_ylabel(\"Win rate\")\n",
    "        axs[i, j].set_title(f\"Alpha={alpha:.2f}, Gamma={gamma:.2f}\")\n",
    "        axs[i, j].legend()\n",
    "plt.tight_layout()\n",
    "plt.show()\n"
   ]
  }
 ],
 "metadata": {
  "kernelspec": {
   "display_name": "Python 3",
   "language": "python",
   "name": "python3"
  },
  "language_info": {
   "codemirror_mode": {
    "name": "ipython",
    "version": 3
   },
   "file_extension": ".py",
   "mimetype": "text/x-python",
   "name": "python",
   "nbconvert_exporter": "python",
   "pygments_lexer": "ipython3",
   "version": "3.11.2"
  },
  "orig_nbformat": 4
 },
 "nbformat": 4,
 "nbformat_minor": 2
}
