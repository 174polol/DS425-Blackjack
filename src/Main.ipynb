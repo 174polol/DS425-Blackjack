{
 "cells": [
  {
   "attachments": {},
   "cell_type": "markdown",
   "metadata": {},
   "source": [
    "This was written using Python 3.11.3 as kernel. \n",
    "Installation of the Open AI Gym package is necessary (run \"pip install gym; pip install gym[atari]\")."
   ]
  },
  {
   "cell_type": "code",
   "execution_count": 1,
   "metadata": {},
   "outputs": [],
   "source": [
    "import numpy as np\n",
    "import gym\n",
    "import pickle #allows to serialize and deserialize Python objects.\n",
    "from tqdm import trange,tqdm #allows to create progress bars"
   ]
  },
  {
   "cell_type": "code",
   "execution_count": 2,
   "metadata": {},
   "outputs": [],
   "source": [
    "env = gym.make('Blackjack-v1')"
   ]
  },
  {
   "attachments": {},
   "cell_type": "markdown",
   "metadata": {},
   "source": [
    "Test the environment:\n",
    "The next two cells can be used to manually play the game. env.reset() resets the game and gives a tuple containing the player hand, the dealers card up, and if the player has a usable ace. env.step Lets you take an action. Using it with argument '1' makes you hit a new card, argument '0' makes you stick. It's output is the same tuple as env.reset(), followed by the reward for last action, i.e. -1 for an action that made you lose (busting or sticking but having less than the dealer), 0 if you tie after sticking or not busting after hitting, and +1 for winning (sticking without busting but still having more than the dealer)."
   ]
  },
  {
   "cell_type": "code",
   "execution_count": 3,
   "metadata": {},
   "outputs": [
    {
     "data": {
      "text/plain": [
       "((14, 10, False), {})"
      ]
     },
     "execution_count": 3,
     "metadata": {},
     "output_type": "execute_result"
    }
   ],
   "source": [
    "env.reset() #start new game"
   ]
  },
  {
   "cell_type": "code",
   "execution_count": 4,
   "metadata": {},
   "outputs": [
    {
     "name": "stderr",
     "output_type": "stream",
     "text": [
      "c:\\Users\\Callens.R\\AppData\\Local\\Programs\\Python\\Python311\\Lib\\site-packages\\gym\\utils\\passive_env_checker.py:233: DeprecationWarning: `np.bool8` is a deprecated alias for `np.bool_`.  (Deprecated NumPy 1.24)\n",
      "  if not isinstance(terminated, (bool, np.bool8)):\n"
     ]
    },
    {
     "data": {
      "text/plain": [
       "((18, 10, False), 0.0, False, False, {})"
      ]
     },
     "execution_count": 4,
     "metadata": {},
     "output_type": "execute_result"
    }
   ],
   "source": [
    "env.step(1)"
   ]
  },
  {
   "attachments": {},
   "cell_type": "markdown",
   "metadata": {},
   "source": [
    "From here on, the Reinforcement Learning (RL) agent is implemented."
   ]
  },
  {
   "cell_type": "code",
   "execution_count": 5,
   "metadata": {},
   "outputs": [],
   "source": [
    "# Define the state space\n",
    "player_sum_space = range(4, 22)  # possible player hand values (4, 5, ..., 20, 21)\n",
    "dealer_card_space = range(1, 11)  # possible dealer up card values (2, 3, ..., 10, 11)\n",
    "usable_ace_space = [False, True]  # whether the player has a usable ace\n",
    "\n",
    "state_space = []\n",
    "for player_sum in player_sum_space:\n",
    "    for dealer_card in dealer_card_space:\n",
    "        for usable_ace in usable_ace_space:\n",
    "            state_space.append((player_sum, dealer_card, usable_ace))\n",
    "\n",
    "# This creates an array of length 306, which is the number of possible states in the game of blackjack. \n",
    "# Each state is a tuple of the player’s sum, the dealer’s card, and whether the player has a usable ace."
   ]
  },
  {
   "attachments": {},
   "cell_type": "markdown",
   "metadata": {},
   "source": [
    "Pre trainings phase to make sure our q table isn't empty before starting the real training of our model.\n",
    "The decicions aren't made using the Q table, but he will hit or stick at random."
   ]
  },
  {
   "cell_type": "code",
   "execution_count": 6,
   "metadata": {},
   "outputs": [
    {
     "name": "stderr",
     "output_type": "stream",
     "text": [
      " 33%|███▎      | 33344/100000 [00:05<00:11, 5891.37it/s]\n"
     ]
    },
    {
     "ename": "KeyboardInterrupt",
     "evalue": "",
     "output_type": "error",
     "traceback": [
      "\u001b[1;31m---------------------------------------------------------------------------\u001b[0m",
      "\u001b[1;31mKeyboardInterrupt\u001b[0m                         Traceback (most recent call last)",
      "Cell \u001b[1;32mIn[6], line 17\u001b[0m\n\u001b[0;32m     13\u001b[0m done \u001b[39m=\u001b[39m \u001b[39mFalse\u001b[39;00m\n\u001b[0;32m     15\u001b[0m \u001b[39mwhile\u001b[39;00m \u001b[39mnot\u001b[39;00m done:\n\u001b[0;32m     16\u001b[0m     \u001b[39m# Choose an action\u001b[39;00m\n\u001b[1;32m---> 17\u001b[0m     action \u001b[39m=\u001b[39m np\u001b[39m.\u001b[39;49mrandom\u001b[39m.\u001b[39;49mchoice(action_space)\n\u001b[0;32m     19\u001b[0m     \u001b[39m# Take the action\u001b[39;00m\n\u001b[0;32m     20\u001b[0m     next_state, reward, done, terminal, dic \u001b[39m=\u001b[39m env\u001b[39m.\u001b[39mstep(action)\n",
      "\u001b[1;31mKeyboardInterrupt\u001b[0m: "
     ]
    }
   ],
   "source": [
    "\n",
    "# Define the action space\n",
    "action_space = [0, 1]  # hit or stick\n",
    "# Get the size of the state and action spaces\n",
    "num_states = len(state_space)\n",
    "num_actions = len(action_space)\n",
    "\n",
    "# Initialize the Q-table with initial values. \n",
    "Q_table = np.zeros((num_states, num_actions))\n",
    "\n",
    "for i in trange(100000): #filling the\n",
    "    # Initialize the state\n",
    "    state = env.reset()[0]\n",
    "    done = False\n",
    "\n",
    "    while not done:\n",
    "        # Choose an action\n",
    "        action = np.random.choice(action_space)\n",
    "\n",
    "        # Take the action\n",
    "        next_state, reward, done, terminal, dic = env.step(action)\n",
    "\n",
    "        # Update Q-table\n",
    "        Q_table[state_space.index(state)][action] += reward\n",
    "\n",
    "        # Update state\n",
    "        state = next_state"
   ]
  },
  {
   "attachments": {},
   "cell_type": "markdown",
   "metadata": {},
   "source": [
    "Real training loop using the initial Q-table made in the previous part."
   ]
  },
  {
   "cell_type": "code",
   "execution_count": 7,
   "metadata": {},
   "outputs": [],
   "source": [
    "\n",
    "# Hyperparameters\n",
    "num_episodes = 1000000  # Total number of episodes\n",
    "alpha = 0.05  # Learning rate\n",
    "gamma = 0.99  # Discount factor\n",
    "epsilon = 0.1  # Epsilon-greedy parameter\n",
    "\n",
    "# Training loop\n",
    "for episode in range(num_episodes):\n",
    "    state = env.reset()[0]\n",
    "    done = False\n",
    "    while not done:\n",
    "        # Epsilon-greedy action selection\n",
    "        if np.random.random() < epsilon:\n",
    "            action = np.random.choice(action_space)\n",
    "        else:\n",
    "            action = np.argmax(state_space.index(state))\n",
    "\n",
    "        # Take the action\n",
    "        next_state, reward, done, terminal, dic = env.step(action)\n",
    "\n",
    "        # Update Q-value if you busted, necessary because Q_table(next_state) does not exist if you bust\n",
    "        if next_state not in state_space:\n",
    "            Q_table[state_space.index(state)][action] += alpha * (reward - Q_table[state_space.index(state)][action])\n",
    "            break\n",
    "\n",
    "        # Update Q-value for current state-action pair\n",
    "        Q_table[state_space.index(state)][action] += alpha * (reward + gamma * np.max(Q_table[state_space.index(next_state)]) - Q_table[state_space.index(state)][action])\n",
    "\n",
    "        state = next_state"
   ]
  },
  {
   "cell_type": "code",
   "execution_count": null,
   "metadata": {},
   "outputs": [],
   "source": [
    "# Save the Q-table to a file using pickle\n",
    "#filename = f\"episodes{num_episodes}_q_table_alpha{alpha}_gamma{gamma}_epsilon{epsilon}.pkl\"\n",
    "#with open(filename, 'wb') as f:\n",
    "#    pickle.dump(Q, f)\n",
    "\n",
    "# Load the Q-table from a file using pickle\n",
    "#with open('q_table.pkl', 'rb') as f:\n",
    "#    Q_table = pickle.load(f)"
   ]
  },
  {
   "cell_type": "code",
   "execution_count": 11,
   "metadata": {},
   "outputs": [
    {
     "name": "stderr",
     "output_type": "stream",
     "text": [
      "100%|██████████| 1000000/1000000 [02:32<00:00, 6552.28it/s]\n"
     ]
    }
   ],
   "source": [
    "# Make the agent play 10000 games and check winnning rate\n",
    "num_games = 1000000\n",
    "num_wins = 0\n",
    "num_draws = 0\n",
    "num_losses = 0\n",
    "\n",
    "for i in trange(num_games):\n",
    "    state = env.reset()[0]\n",
    "    done = False\n",
    "    while not done:\n",
    "        action = np.argmax(Q_table[state_space.index(state)])\n",
    "        next_state, reward, done, terminal, dic = env.step(action)\n",
    "        state = next_state\n",
    "        if done and reward == 1:\n",
    "            num_wins += 1\n",
    "        elif done and reward == 0:\n",
    "            num_draws += 1\n",
    "        elif done and reward == -1:\n",
    "            num_losses += 1"
   ]
  },
  {
   "cell_type": "code",
   "execution_count": 12,
   "metadata": {},
   "outputs": [
    {
     "data": {
      "text/plain": [
       "0.43539743698841293"
      ]
     },
     "execution_count": 12,
     "metadata": {},
     "output_type": "execute_result"
    }
   ],
   "source": [
    "num_wins/(num_games-num_draws)"
   ]
  },
  {
   "attachments": {},
   "cell_type": "markdown",
   "metadata": {},
   "source": [
    "0.43536506569028643\n",
    "Winrate random action policy => Nothing to do with the agent playing a game. \n",
    "This is just as a reference"
   ]
  },
  {
   "cell_type": "code",
   "execution_count": null,
   "metadata": {},
   "outputs": [],
   "source": [
    "# Check winnning rate of random action policy\n",
    "\n",
    "num_games = 100000\n",
    "num_wins = 0\n",
    "num_draws = 0\n",
    "num_losses = 0\n",
    "\n",
    "for i in range(num_games):\n",
    "    state = env.reset()[0]\n",
    "    done = False\n",
    "    while not done:\n",
    "        action = np.random.choice(action_space)\n",
    "        next_state, reward, done, terminal, dic = env.step(action)\n",
    "        state = next_state\n",
    "        if done and reward == 1:\n",
    "            num_wins += 1\n",
    "        elif done and reward == 0:\n",
    "            num_draws += 1\n",
    "        elif done and reward == -1:\n",
    "            num_losses += 1"
   ]
  },
  {
   "cell_type": "code",
   "execution_count": null,
   "metadata": {},
   "outputs": [
    {
     "data": {
      "text/plain": [
       "0.29474606685306515"
      ]
     },
     "execution_count": 142,
     "metadata": {},
     "output_type": "execute_result"
    }
   ],
   "source": [
    "num_wins/(num_games-num_draws)"
   ]
  },
  {
   "attachments": {},
   "cell_type": "markdown",
   "metadata": {},
   "source": [
    "Before diving deeper into the different parameter sets we should know how many games we need to play to let our winrate converge to a stable (relativley) value.\n",
    "So we iterated on some episodes"
   ]
  },
  {
   "cell_type": "code",
   "execution_count": null,
   "metadata": {},
   "outputs": [],
   "source": [
    "\n",
    "# Hyperparameters\n",
    "alpha = 0.05  # Learning rate\n",
    "gamma = 0.99  # Discount factor\n",
    "epsilon = 0.1  # Epsilon-greedy parameter\n",
    "num_games = 100000\n",
    "num_draws = 0\n",
    "\n",
    "# Vary num_episodes and compute winrate\n",
    "num_episodes_values = list(range(10000, 10010000, 10000))\n",
    "winrates = []\n",
    "for i in trange(len(num_episodes_values)):\n",
    "    num_episodes = num_episodes_values[i]\n",
    "\n",
    "    # Check if a file already exists for this Q-table\n",
    "    filename = f\"{directory_path_epis}/episodes{num_episodes}_q_table_alpha{alpha}_gamma{gamma}_epsilon{epsilon}.pkl\"\n",
    "    if os.path.exists(filename):\n",
    "        #print(f\"{filename} already exists, loading...\")\n",
    "        with open(filename, 'rb') as f:\n",
    "            Q_table = pickle.load(f)\n",
    "    else:\n",
    "        Q_table = np.zeros((len(state_space), len(action_space)))\n",
    "        for episode in range(num_episodes):\n",
    "            state = env.reset()[0]\n",
    "            done = False\n",
    "            while not done:\n",
    "                # Epsilon-greedy action selection\n",
    "                if np.random.random() < epsilon:\n",
    "                    action = np.random.choice(action_space)\n",
    "                else:\n",
    "                    action = np.argmax(Q_table[state_space.index(state)])\n",
    "\n",
    "                # Take the action\n",
    "                next_state, reward, done, terminal, dic = env.step(action)\n",
    "\n",
    "                # Update Q-value if you busted, necessary because Q_table(next_state) does not exist if you bust\n",
    "                if next_state not in state_space:\n",
    "                    Q_table[state_space.index(state)][action] += alpha * (reward - Q_table[state_space.index(state)][action])\n",
    "                    break\n",
    "\n",
    "                # Update Q-value for current state-action pair\n",
    "                Q_table[state_space.index(state)][action] += alpha * (reward + gamma * np.max(Q_table[state_space.index(next_state)]) - Q_table[state_space.index(state)][action])\n",
    "\n",
    "                state = next_state\n",
    "\n",
    "            # Save the Q-table to a file using pickle\n",
    "            with open(filename, 'wb') as f:\n",
    "                pickle.dump(Q_table, f)\n",
    "\n",
    "    # Evaluate the performance of the Q-table by playing num_games games\n",
    "    num_wins = 0\n",
    "    num_losses = 0\n",
    "    num_draws = 0\n",
    "    for n in range(num_games):\n",
    "        state = env.reset()[0]\n",
    "        done = False\n",
    "        while not done:\n",
    "            action = np.argmax(Q_table[state_space.index(state)])\n",
    "            next_state, reward, done, terminal, dic = env.step(action)\n",
    "            state = next_state\n",
    "            if done and reward == 1:\n",
    "                num_wins += 1\n",
    "            elif done and reward == -1:\n",
    "                num_losses += 1\n",
    "            elif done and reward == 0:\n",
    "                num_draws += 1\n",
    "\n",
    "    winrate = num_wins / (num_games - num_draws)\n",
    "    winrates.append(winrate)\n",
    "\n",
    "# Plot winrate vs num_episodes\n",
    "plt.plot(num_episodes_values, winrates)\n",
    "plt.xscale('log')\n",
    "plt.xlabel('num_episodes')\n",
    "plt.ylabel('winrate')\n",
    "plt.show()"
   ]
  },
  {
   "attachments": {},
   "cell_type": "markdown",
   "metadata": {},
   "source": [
    "This code was used as first test code and as first impression of how AI and agents work.\n",
    "\n",
    "Go now to the Test_params code to find the optimal reward function.\n",
    "\n",
    "After that the optimal reward function was implemented in the Test_hyperparams to find the optimal hyperparameters."
   ]
  }
 ],
 "metadata": {
  "kernelspec": {
   "display_name": "Python 3",
   "language": "python",
   "name": "python3"
  },
  "language_info": {
   "codemirror_mode": {
    "name": "ipython",
    "version": 3
   },
   "file_extension": ".py",
   "mimetype": "text/x-python",
   "name": "python",
   "nbconvert_exporter": "python",
   "pygments_lexer": "ipython3",
   "version": "3.11.2"
  },
  "orig_nbformat": 4
 },
 "nbformat": 4,
 "nbformat_minor": 2
}
