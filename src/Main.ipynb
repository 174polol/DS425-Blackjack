{
 "cells": [
  {
   "attachments": {},
   "cell_type": "markdown",
   "metadata": {},
   "source": [
    "This was written using Python 3.11.3 as kernel. \n",
    "Installation of the Open AI Gym package is necessary (run \"pip install gym; pip install gym[atari]\")."
   ]
  },
  {
   "cell_type": "code",
   "execution_count": 2,
   "metadata": {},
   "outputs": [],
   "source": [
    "import numpy as np\n",
    "import gym"
   ]
  },
  {
   "cell_type": "code",
   "execution_count": 3,
   "metadata": {},
   "outputs": [],
   "source": [
    "env = gym.make('Blackjack-v1')"
   ]
  },
  {
   "attachments": {},
   "cell_type": "markdown",
   "metadata": {},
   "source": [
    "The next two cells can be used to manually play the game. env.reset() resets the game and gives a tuple containing the player hand, the dealers card up, and if the player has a usable ace. env.step Lets you take an action. Using it with argument '1' makes you hit a new card, argument '0' makes you stick. It's output is the same tuple as env.reset(), followed by the reward for last action, i.e. -1 for an action that made you lose (busting or sticking but having less than the dealer), 0 if you tie after sticking or not busting after hitting, and +1 for winning (sticking without busting but still having more than the dealer)."
   ]
  },
  {
   "cell_type": "code",
   "execution_count": 8,
   "metadata": {},
   "outputs": [
    {
     "data": {
      "text/plain": [
       "((10, 8, False), {})"
      ]
     },
     "execution_count": 8,
     "metadata": {},
     "output_type": "execute_result"
    }
   ],
   "source": [
    "env.reset()"
   ]
  },
  {
   "cell_type": "code",
   "execution_count": 9,
   "metadata": {},
   "outputs": [
    {
     "data": {
      "text/plain": [
       "((18, 8, False), 0.0, False, False, {})"
      ]
     },
     "execution_count": 9,
     "metadata": {},
     "output_type": "execute_result"
    }
   ],
   "source": [
    "env.step(1)"
   ]
  },
  {
   "attachments": {},
   "cell_type": "markdown",
   "metadata": {},
   "source": [
    "From here on, the Reinforcement Learning (RL) agent is implemented."
   ]
  },
  {
   "cell_type": "code",
   "execution_count": 25,
   "metadata": {},
   "outputs": [],
   "source": [
    "# Define the state space\n",
    "player_sum_space = range(4, 22)  # possible player hand values (4, 5, ..., 20, 21)\n",
    "dealer_card_space = range(1, 11)  # possible dealer up card values (2, 3, ..., 10, 11)\n",
    "usable_ace_space = [False, True]  # whether the player has a usable ace\n",
    "\n",
    "state_space = []\n",
    "for player_sum in player_sum_space:\n",
    "    for dealer_card in dealer_card_space:\n",
    "        for usable_ace in usable_ace_space:\n",
    "            state_space.append((player_sum, dealer_card, usable_ace))\n",
    "\n",
    "# This creates an array of length 306, which is the number of possible states in the game of blackjack. \n",
    "# Each state is a tuple of the player’s sum, the dealer’s card, and whether the player has a usable ace."
   ]
  },
  {
   "cell_type": "code",
   "execution_count": 26,
   "metadata": {},
   "outputs": [
    {
     "data": {
      "text/plain": [
       "360"
      ]
     },
     "execution_count": 26,
     "metadata": {},
     "output_type": "execute_result"
    }
   ],
   "source": [
    "len(state_space)"
   ]
  },
  {
   "cell_type": "code",
   "execution_count": 27,
   "metadata": {},
   "outputs": [],
   "source": [
    "# Define the action space\n",
    "action_space = [0, 1]  # hit or stick"
   ]
  },
  {
   "cell_type": "code",
   "execution_count": 79,
   "metadata": {},
   "outputs": [],
   "source": [
    "# Get the size of the state and action spaces\n",
    "num_states = len(state_space)\n",
    "num_actions = len(action_space)\n",
    "\n",
    "# Initialize the Q-table with initial values. \n",
    "Q_table = np.zeros((num_states, num_actions))\n",
    "\n",
    "for i in range(100000):\n",
    "    # Initialize the state\n",
    "    state = env.reset()[0]\n",
    "    done = False\n",
    "\n",
    "    while not done:\n",
    "        # Choose an action\n",
    "        action = np.random.choice(action_space)\n",
    "\n",
    "        # Take the action\n",
    "        next_state, reward, done, terminal, dic = env.step(action)\n",
    "\n",
    "        # Update Q-table\n",
    "        Q_table[state_space.index(state)][action] += reward\n",
    "\n",
    "        # Update state\n",
    "        state = next_state"
   ]
  },
  {
   "cell_type": "code",
   "execution_count": 117,
   "metadata": {},
   "outputs": [],
   "source": [
    "# Hyperparameters\n",
    "num_episodes = 10000000  # Total number of episodes\n",
    "alpha = 0.05  # Learning rate\n",
    "gamma = 0.99  # Discount factor\n",
    "epsilon = 0.1  # Epsilon-greedy parameter\n",
    "\n",
    "# Training loop\n",
    "for episode in range(num_episodes):\n",
    "    state = env.reset()[0]\n",
    "    done = False\n",
    "    while not done:\n",
    "        # Epsilon-greedy action selection\n",
    "        if np.random.random() < epsilon:\n",
    "            action = np.random.choice(action_space)\n",
    "        else:\n",
    "            action = np.argmax(state_space.index(state))\n",
    "\n",
    "        # Take the action\n",
    "        next_state, reward, done, terminal, dic = env.step(action)\n",
    "\n",
    "        # Update Q-value if you busted, necessary because Q_table(next_state) does not exist if you bust\n",
    "        if next_state not in state_space:\n",
    "            Q_table[state_space.index(state)][action] += alpha * (reward - Q_table[state_space.index(state)][action])\n",
    "            break\n",
    "\n",
    "        # Update Q-value for current state-action pair\n",
    "        Q_table[state_space.index(state)][action] += alpha * (reward + gamma * np.max(Q_table[state_space.index(next_state)]) - Q_table[state_space.index(state)][action])\n",
    "\n",
    "        state = next_state"
   ]
  },
  {
   "cell_type": "code",
   "execution_count": 133,
   "metadata": {},
   "outputs": [
    {
     "data": {
      "text/plain": [
       "(17, 8, False)"
      ]
     },
     "execution_count": 133,
     "metadata": {},
     "output_type": "execute_result"
    }
   ],
   "source": [
    "# Checking Q-values for a state\n",
    "state=env.reset()[0]\n",
    "state"
   ]
  },
  {
   "cell_type": "code",
   "execution_count": 134,
   "metadata": {},
   "outputs": [
    {
     "data": {
      "text/plain": [
       "array([24.60296078, 23.57936825])"
      ]
     },
     "execution_count": 134,
     "metadata": {},
     "output_type": "execute_result"
    }
   ],
   "source": [
    "Q_table[state_space.index(state)]"
   ]
  },
  {
   "cell_type": "code",
   "execution_count": 135,
   "metadata": {},
   "outputs": [],
   "source": [
    "# Make the agent play 10000 games and check winnning rate\n",
    "\n",
    "num_games = 100000\n",
    "num_wins = 0\n",
    "num_draws = 0\n",
    "num_losses = 0\n",
    "\n",
    "for i in range(num_games):\n",
    "    state = env.reset()[0]\n",
    "    done = False\n",
    "    while not done:\n",
    "        action = np.argmax(Q_table[state_space.index(state)])\n",
    "        next_state, reward, done, terminal, dic = env.step(action)\n",
    "        state = next_state\n",
    "        if done and reward == 1:\n",
    "            num_wins += 1\n",
    "        elif done and reward == 0:\n",
    "            num_draws += 1\n",
    "        elif done and reward == -1:\n",
    "            num_losses += 1"
   ]
  },
  {
   "cell_type": "code",
   "execution_count": 140,
   "metadata": {},
   "outputs": [
    {
     "data": {
      "text/plain": [
       "0.4318488237895441"
      ]
     },
     "execution_count": 140,
     "metadata": {},
     "output_type": "execute_result"
    }
   ],
   "source": [
    "num_wins/(num_games-num_draws)"
   ]
  },
  {
   "cell_type": "code",
   "execution_count": 141,
   "metadata": {},
   "outputs": [],
   "source": [
    "# Check winnning rate of random action policy\n",
    "\n",
    "num_games = 100000\n",
    "num_wins = 0\n",
    "num_draws = 0\n",
    "num_losses = 0\n",
    "\n",
    "for i in range(num_games):\n",
    "    state = env.reset()[0]\n",
    "    done = False\n",
    "    while not done:\n",
    "        action = np.random.choice(action_space)\n",
    "        next_state, reward, done, terminal, dic = env.step(action)\n",
    "        state = next_state\n",
    "        if done and reward == 1:\n",
    "            num_wins += 1\n",
    "        elif done and reward == 0:\n",
    "            num_draws += 1\n",
    "        elif done and reward == -1:\n",
    "            num_losses += 1"
   ]
  },
  {
   "cell_type": "code",
   "execution_count": 142,
   "metadata": {},
   "outputs": [
    {
     "data": {
      "text/plain": [
       "0.29474606685306515"
      ]
     },
     "execution_count": 142,
     "metadata": {},
     "output_type": "execute_result"
    }
   ],
   "source": [
    "num_wins/(num_games-num_draws)"
   ]
  }
 ],
 "metadata": {
  "kernelspec": {
   "display_name": "Python 3",
   "language": "python",
   "name": "python3"
  },
  "language_info": {
   "codemirror_mode": {
    "name": "ipython",
    "version": 3
   },
   "file_extension": ".py",
   "mimetype": "text/x-python",
   "name": "python",
   "nbconvert_exporter": "python",
   "pygments_lexer": "ipython3",
   "version": "3.11.3"
  },
  "orig_nbformat": 4
 },
 "nbformat": 4,
 "nbformat_minor": 2
}
