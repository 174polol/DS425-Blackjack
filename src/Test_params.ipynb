{
 "cells": [
  {
   "cell_type": "code",
   "execution_count": 4,
   "metadata": {},
   "outputs": [],
   "source": [
    "import numpy as np\n",
    "import matplotlib.pyplot as plt\n",
    "import gym\n",
    "import pickle #allows to serialize and deserialize Python objects.\n",
    "from mpl_toolkits.mplot3d import Axes3D\n",
    "from tqdm import trange,tqdm #allows to create progress bars\n",
    "import os\n",
    "\n",
    "#change the paths to the correct paths on your computer\n",
    "directory_path_params = r\"C:\\Users\\Callens.R\\Documents\\Kms\\1MA sem 2\\2. DS425 Intelligent decision support methods\\Project weemaes_callens\\DS425-Blackjack\\data\\params\""
   ]
  },
  {
   "attachments": {},
   "cell_type": "markdown",
   "metadata": {},
   "source": [
    "In this code the winrate is calculated for a range of reward functions. "
   ]
  },
  {
   "cell_type": "code",
   "execution_count": 5,
   "metadata": {},
   "outputs": [],
   "source": [
    "env = gym.make('Blackjack-v1')"
   ]
  },
  {
   "cell_type": "code",
   "execution_count": 6,
   "metadata": {},
   "outputs": [],
   "source": [
    "# Define the state space\n",
    "player_sum_space = range(4, 22)  # possible player hand values (4, 5, ..., 20, 21)\n",
    "dealer_card_space = range(1, 11)  # possible dealer up card values (2, 3, ..., 10, 11)\n",
    "usable_ace_space = [False, True]  # whether the player has a usable ace\n",
    "\n",
    "state_space = []\n",
    "for player_sum in player_sum_space:\n",
    "    for dealer_card in dealer_card_space:\n",
    "        for usable_ace in usable_ace_space:\n",
    "            state_space.append((player_sum, dealer_card, usable_ace))\n",
    "\n",
    "# This creates an array of length 306, which is the number of possible states in the game of blackjack. \n",
    "# Each state is a tuple of the player’s sum, the dealer’s card, and whether the player has a usable ace.\n",
    "\n",
    "# Define the action space\n",
    "action_space = [0, 1]  # hit or stick\n",
    "# Get the size of the state and action spaces\n",
    "num_states = len(state_space)\n",
    "num_actions = len(action_space)"
   ]
  },
  {
   "attachments": {},
   "cell_type": "markdown",
   "metadata": {},
   "source": [
    "Change the reward function and chek the influence on the winrate. The value of the number of episodes of the q table, games and hyperparameters stay cosntant"
   ]
  },
  {
   "cell_type": "code",
   "execution_count": 10,
   "metadata": {},
   "outputs": [
    {
     "name": "stderr",
     "output_type": "stream",
     "text": [
      "c:\\Users\\Callens.R\\AppData\\Local\\Programs\\Python\\Python311\\Lib\\site-packages\\gym\\utils\\passive_env_checker.py:233: DeprecationWarning: `np.bool8` is a deprecated alias for `np.bool_`.  (Deprecated NumPy 1.24)\n",
      "  if not isinstance(terminated, (bool, np.bool8)):\n"
     ]
    },
    {
     "ename": "KeyboardInterrupt",
     "evalue": "",
     "output_type": "error",
     "traceback": [
      "\u001b[1;31m---------------------------------------------------------------------------\u001b[0m",
      "\u001b[1;31mKeyboardInterrupt\u001b[0m                         Traceback (most recent call last)",
      "Cell \u001b[1;32mIn[10], line 60\u001b[0m\n\u001b[0;32m     57\u001b[0m             state \u001b[39m=\u001b[39m next_state\n\u001b[0;32m     59\u001b[0m         \u001b[39m# Save the Q-table to a file using pickle\u001b[39;00m\n\u001b[1;32m---> 60\u001b[0m         \u001b[39mwith\u001b[39;00m \u001b[39mopen\u001b[39;49m(filename, \u001b[39m'\u001b[39;49m\u001b[39mwb\u001b[39;49m\u001b[39m'\u001b[39;49m) \u001b[39mas\u001b[39;00m f:\n\u001b[0;32m     61\u001b[0m             pickle\u001b[39m.\u001b[39mdump(Q_table, f)\n\u001b[0;32m     63\u001b[0m \u001b[39m# Evaluate the performance of the Q-table by playing num_games games\u001b[39;00m\n",
      "File \u001b[1;32m~\\AppData\\Roaming\\Python\\Python311\\site-packages\\IPython\\core\\interactiveshell.py:282\u001b[0m, in \u001b[0;36m_modified_open\u001b[1;34m(file, *args, **kwargs)\u001b[0m\n\u001b[0;32m    275\u001b[0m \u001b[39mif\u001b[39;00m file \u001b[39min\u001b[39;00m {\u001b[39m0\u001b[39m, \u001b[39m1\u001b[39m, \u001b[39m2\u001b[39m}:\n\u001b[0;32m    276\u001b[0m     \u001b[39mraise\u001b[39;00m \u001b[39mValueError\u001b[39;00m(\n\u001b[0;32m    277\u001b[0m         \u001b[39mf\u001b[39m\u001b[39m\"\u001b[39m\u001b[39mIPython won\u001b[39m\u001b[39m'\u001b[39m\u001b[39mt let you open fd=\u001b[39m\u001b[39m{\u001b[39;00mfile\u001b[39m}\u001b[39;00m\u001b[39m by default \u001b[39m\u001b[39m\"\u001b[39m\n\u001b[0;32m    278\u001b[0m         \u001b[39m\"\u001b[39m\u001b[39mas it is likely to crash IPython. If you know what you are doing, \u001b[39m\u001b[39m\"\u001b[39m\n\u001b[0;32m    279\u001b[0m         \u001b[39m\"\u001b[39m\u001b[39myou can use builtins\u001b[39m\u001b[39m'\u001b[39m\u001b[39m open.\u001b[39m\u001b[39m\"\u001b[39m\n\u001b[0;32m    280\u001b[0m     )\n\u001b[1;32m--> 282\u001b[0m \u001b[39mreturn\u001b[39;00m io_open(file, \u001b[39m*\u001b[39;49margs, \u001b[39m*\u001b[39;49m\u001b[39m*\u001b[39;49mkwargs)\n",
      "\u001b[1;31mKeyboardInterrupt\u001b[0m: "
     ]
    }
   ],
   "source": [
    "# Hyperparameters\n",
    "alpha = 0.05  # Learning rate\n",
    "gamma = 0.99  # Discount factor\n",
    "epsilon = 0.1  # Epsilon-greedy parameter\n",
    "num_games = 100000\n",
    "num_draws = 0\n",
    "\n",
    "rewarddraw_range = np.arange(-1,1,0.1)\n",
    "rewardwin_range = np.arange(-4,20,1)\n",
    "rewardloss_range = np.arange(-20,4,1)\n",
    "\n",
    "# Initialize arrays to store win rate for each combination of hyperparameters\n",
    "win_rates = np.zeros((rewarddraw_range.size, rewardwin_range.size, rewardloss_range.size))\n",
    "\n",
    "# Vary num_episodes and compute winrate\n",
    "num_episodes = 1000000\n",
    "winrates = []\n",
    "for i, rewarddraw in enumerate(rewarddraw_range):\n",
    "    for j, rewardwin in enumerate(rewardwin_range):\n",
    "        for k, rewardloss in enumerate(rewardloss_range):\n",
    "\n",
    "            # Check if a file already exists for this Q-table\n",
    "            filename = f\"{directory_path_params}/episodes{num_episodes}_q_table_alpha{alpha}_gamma{gamma}_epsilon{epsilon}_RD{rewarddraw}_RW{rewardwin}_RL{rewardloss}.pkl\"\n",
    "            if os.path.exists(filename):\n",
    "                #print(f\"{filename} already exists, loading...\")\n",
    "                with open(filename, 'rb') as f:\n",
    "                    Q_table = pickle.load(f)\n",
    "            else:\n",
    "                Q_table = np.zeros((len(state_space), len(action_space)))\n",
    "                for episode in range(num_episodes):\n",
    "                    state = env.reset()[0]\n",
    "                    done = False\n",
    "                    while not done:\n",
    "                        # Epsilon-greedy action selection\n",
    "                        if np.random.random() < epsilon:\n",
    "                            action = np.random.choice(action_space)\n",
    "                        else:\n",
    "                            action = np.argmax(Q_table[state_space.index(state)])\n",
    "\n",
    "                        # Take the action\n",
    "                        next_state, reward, done, terminal, dic = env.step(action)\n",
    "                        \n",
    "                        if reward == 0:\n",
    "                            rewardcalc = rewarddraw\n",
    "                        elif reward == 1:\n",
    "                            rewardcalc = rewardwin\n",
    "                        elif reward == -1:\n",
    "                            rewardcalc = rewardloss\n",
    "                        # Update Q-value if you busted, necessary because Q_table(next_state) does not exist if you bust\n",
    "                        if next_state not in state_space:\n",
    "                            Q_table[state_space.index(state)][action] += alpha * (rewardcalc - Q_table[state_space.index(state)][action])\n",
    "                            break\n",
    "\n",
    "                        # Update Q-value for current state-action pair\n",
    "                        Q_table[state_space.index(state)][action] += alpha * (rewardcalc + gamma * np.max(Q_table[state_space.index(next_state)]) - Q_table[state_space.index(state)][action])\n",
    "\n",
    "                        state = next_state\n",
    "\n",
    "                    # Save the Q-table to a file using pickle\n",
    "                    with open(filename, 'wb') as f:\n",
    "                        pickle.dump(Q_table, f)\n",
    "\n",
    "            # Evaluate the performance of the Q-table by playing num_games games\n",
    "            num_wins = 0\n",
    "            num_losses = 0\n",
    "            num_draws = 0\n",
    "            for i in range(num_games):\n",
    "                state = env.reset()[0]\n",
    "                done = False\n",
    "                while not done:\n",
    "                    action = np.argmax(Q_table[state_space.index(state)])\n",
    "                    next_state, reward, done, terminal, dic = env.step(action)\n",
    "                    state = next_state\n",
    "                    if done and reward == 1:\n",
    "                        num_wins += 1\n",
    "                    elif done and reward == -1:\n",
    "                        num_losses += 1\n",
    "                    elif done and reward == 0:\n",
    "                        num_draws += 1\n",
    "\n",
    "            win_rate = num_wins / (num_games - num_draws)\n",
    "            win_rates[i, j, k] = win_rate\n",
    "\n",
    "# Visualize results\n",
    "draw_grid, win_grid, loss_grid = np.meshgrid(rewarddraw_range, rewardwin_range, rewardloss_range, indexing='ij')\n",
    "fig = plt.figure()\n",
    "ax = fig.add_subplot(projection='3d')\n",
    "sc = ax.scatter(draw_grid, win_grid, loss_grid, c=win_rates.flatten(), cmap='coolwarm')\n",
    "ax.set_xlabel('Reward Draw')\n",
    "ax.set_ylabel('Reward Win')\n",
    "ax.set_zlabel('Reward Loss')\n",
    "\n",
    "# Add colorbar\n",
    "cbar = fig.colorbar(sc)\n",
    "cbar.ax.set_ylabel('Win Rate', rotation=270, labelpad=10)\n",
    "\n",
    "plt.show()"
   ]
  }
 ],
 "metadata": {
  "kernelspec": {
   "display_name": "Python 3",
   "language": "python",
   "name": "python3"
  },
  "language_info": {
   "codemirror_mode": {
    "name": "ipython",
    "version": 3
   },
   "file_extension": ".py",
   "mimetype": "text/x-python",
   "name": "python",
   "nbconvert_exporter": "python",
   "pygments_lexer": "ipython3",
   "version": "3.11.2"
  },
  "orig_nbformat": 4
 },
 "nbformat": 4,
 "nbformat_minor": 2
}
